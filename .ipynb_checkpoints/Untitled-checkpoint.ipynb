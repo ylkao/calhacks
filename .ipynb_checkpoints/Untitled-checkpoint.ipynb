{
 "cells": [
  {
   "cell_type": "code",
   "execution_count": 1,
   "metadata": {
    "collapsed": true
   },
   "outputs": [],
   "source": [
    "import requests  # to make GET request\n",
    "from bs4 import BeautifulSoup  # to parse the HTML response\n",
    "import time  # to pause between calls\n",
    "import csv  # to write data to csv\n",
    "import pandas  # to see CSV"
   ]
  },
  {
   "cell_type": "code",
   "execution_count": 2,
   "metadata": {
    "collapsed": false
   },
   "outputs": [
    {
     "name": "stdout",
     "output_type": "stream",
     "text": [
      "<!DOCTYPE html>\n",
      "<html data-ng-app=\"bqApp\" lang=\"en\">\n",
      "<head>\n",
      "<meta charset=\"utf-8\" />\n",
      "<link rel=\"dns-prefetch\" href=\"//ajax.googleapis.com\">\n",
      "<link rel=\"dns-prefetch\" href=\"//cdnjs.cloudflare.com\">\n",
      "<link rel=\"dns-prefetch\" href=\"//fonts.googleapis.com\">\n",
      "<link rel=\"dns-prefetch\" href=\"//fonts.gstatic.com\">\n",
      "<link rel=\"dns-prefetch\" href=\"//www.google-analytics.com\">\n",
      "<link rel=\"dns-prefetch\" href=\"//googletagservices.com\">\n",
      "<link rel=\"dns-prefetch\" href=\"//i.po.st\">\n",
      "<link rel=\"dns-prefetch\" href=\"//platform.twitter.com\">\n",
      "<link rel=\"dns-prefetch\" href=\"//ad.doubleclick.net\">\n",
      "<link rel=\"dns-prefetch\" href=\"//pagead2.googlesyndication.com\">\n",
      "<link rel=\"dns-prefetch\" href=\"//partner.googleadservices.com\">\n",
      "<link rel=\"dns-prefetch\" href=\"//i.yldbt.com\">\n",
      "<link rel=\"dns-prefetch\" href=\"//cdn.yldbt.com\">\n",
      "<link rel=\"dns-prefetch\" href=\"//brainyquote-d.openx.net\">\n",
      "<link rel=\"dns-prefetch\" href=\"//js.indexww.com\">\n",
      "<link rel=\"dns-prefetch\" href=\"//as.casalemedia.com/\">\n",
      "<link rel=\"dns-prefetch\" href=\"//c.a\n"
     ]
    }
   ],
   "source": [
    "# make a GET request\n",
    "response = requests.get('https://www.brainyquote.com/quotes/topics/topic_positive.html')\n",
    "\n",
    "# read the content of the server’s response as a string\n",
    "page_source = response.text\n",
    "print(page_source[:1000])"
   ]
  },
  {
   "cell_type": "code",
   "execution_count": 3,
   "metadata": {
    "collapsed": true
   },
   "outputs": [],
   "source": [
    "soup = BeautifulSoup(page_source, 'html.parser')"
   ]
  },
  {
   "cell_type": "code",
   "execution_count": null,
   "metadata": {
    "collapsed": false
   },
   "outputs": [],
   "source": []
  },
  {
   "cell_type": "code",
   "execution_count": 51,
   "metadata": {
    "collapsed": false
   },
   "outputs": [
    {
     "name": "stdout",
     "output_type": "stream",
     "text": [
      "num 99\n",
      "end 213\n",
      "num 98\n",
      "end 194\n",
      "num 99\n",
      "end 177\n",
      "num 99\n",
      "end 218\n",
      "num 98\n",
      "end 199\n",
      "num 98\n",
      "end 200\n",
      "num 99\n",
      "end 184\n",
      "num 99\n",
      "end 202\n",
      "num 99\n",
      "end 202\n",
      "num 97\n",
      "end 218\n",
      "num 99\n",
      "end 204\n",
      "num 99\n",
      "end 176\n",
      "num 98\n",
      "end 197\n",
      "num 97\n",
      "end 164\n",
      "num 99\n",
      "end 194\n"
     ]
    }
   ],
   "source": [
    "arr = []\n",
    "for thing in soup(\"a\", class_ = \"oncl_q\"):\n",
    "    thing = str(thing)\n",
    "    try:\n",
    "        num = thing.index(\"img alt\")\n",
    "        end_index = thing.index('class=\" zoomc bqpht\"')\n",
    "        print(\"num\", num)\n",
    "        print(\"end\", end_index)\n",
    "        arr += [thing[(num+9):end_index-2]]\n",
    "    except:\n",
    "        pass\n",
    "    "
   ]
  },
  {
   "cell_type": "code",
   "execution_count": 55,
   "metadata": {
    "collapsed": false
   },
   "outputs": [
    {
     "data": {
      "text/plain": [
       "['Love yourself. It is important to stay positive because beauty comes from the inside out. - Jenn Proske',\n",
       " 'Your positive action combined with positive thinking results in success. - Shiv Khera',\n",
       " 'Live life to the fullest, and focus on the positive. - Matt Cameron',\n",
       " \"Once you replace negative thoughts with positive ones, you'll start having positive results. - Willie Nelson\",\n",
       " 'Yesterday is not ours to recover, but tomorrow is ours to win or lose. - Lyndon B. Johnson',\n",
       " 'Adopting the right attitude can convert a negative stress into a positive one. - Hans Selye',\n",
       " 'Keep your face to the sunshine and you cannot see a shadow. - Helen Keller',\n",
       " 'A strong, positive self-image is the best possible preparation for success. - Joyce Brothers',\n",
       " \"Find a place inside where there's joy, and the joy will burn out the pain. - Joseph Campbell\",\n",
       " 'Your smile will give you a positive countenance that will make people feel comfortable around you. - Les Brown',\n",
       " \"Work hard, stay positive, and get up early. It's the best part of the day. - George Allen, Sr.\",\n",
       " 'You cannot have a positive life and a negative mind. - Joyce Meyer',\n",
       " 'In order to carry a positive action we must develop here a positive vision. - Dalai Lama',\n",
       " 'When you think positive, good things happen. - Matt Kemp',\n",
       " 'A positive attitude can really make dreams come true - it did for me. - David Bailey']"
      ]
     },
     "execution_count": 55,
     "metadata": {},
     "output_type": "execute_result"
    }
   ],
   "source": [
    "arr"
   ]
  },
  {
   "cell_type": "code",
   "execution_count": 53,
   "metadata": {
    "collapsed": false
   },
   "outputs": [
    {
     "data": {
      "text/plain": [
       "15"
      ]
     },
     "execution_count": 53,
     "metadata": {},
     "output_type": "execute_result"
    }
   ],
   "source": [
    "len(arr)"
   ]
  },
  {
   "cell_type": "code",
   "execution_count": 56,
   "metadata": {
    "collapsed": false
   },
   "outputs": [
    {
     "ename": "NameError",
     "evalue": "name 'soupy' is not defined",
     "output_type": "error",
     "traceback": [
      "\u001b[0;31m---------------------------------------------------------------------------\u001b[0m",
      "\u001b[0;31mNameError\u001b[0m                                 Traceback (most recent call last)",
      "\u001b[0;32m<ipython-input-56-9f26c69ddf2d>\u001b[0m in \u001b[0;36m<module>\u001b[0;34m()\u001b[0m\n\u001b[0;32m----> 1\u001b[0;31m \u001b[0mcat\u001b[0m \u001b[1;33m=\u001b[0m \u001b[0msoupy\u001b[0m\u001b[1;33m(\u001b[0m\u001b[1;34m'https://www.brainyquote.com/quotes/topics/topic_positive.html'\u001b[0m\u001b[1;33m)\u001b[0m\u001b[1;33m\u001b[0m\u001b[0m\n\u001b[0m\u001b[1;32m      2\u001b[0m \u001b[0mdog\u001b[0m \u001b[1;33m=\u001b[0m \u001b[0msoupy\u001b[0m\u001b[1;33m(\u001b[0m\u001b[1;34m'https://www.brainyquote.com/quotes/topics/topic_motivational.html'\u001b[0m\u001b[1;33m)\u001b[0m\u001b[1;33m\u001b[0m\u001b[0m\n\u001b[1;32m      3\u001b[0m \u001b[0mbird\u001b[0m \u001b[1;33m=\u001b[0m \u001b[0msoupy\u001b[0m\u001b[1;33m(\u001b[0m\u001b[1;34m'https://www.brainyquote.com/quotes/topics/topic_courage.html'\u001b[0m\u001b[1;33m)\u001b[0m\u001b[1;33m\u001b[0m\u001b[0m\n\u001b[1;32m      4\u001b[0m \u001b[0mpigeon\u001b[0m \u001b[1;33m=\u001b[0m \u001b[0msoupy\u001b[0m\u001b[1;33m(\u001b[0m\u001b[1;34m'https://www.brainyquote.com/quotes/topics/topic_happiness.html'\u001b[0m\u001b[1;33m)\u001b[0m\u001b[1;33m\u001b[0m\u001b[0m\n\u001b[1;32m      5\u001b[0m \u001b[0mmeow\u001b[0m \u001b[1;33m=\u001b[0m \u001b[0msoupy\u001b[0m\u001b[1;33m(\u001b[0m\u001b[1;34m'https://www.brainyquote.com/quotes/topics/topic_jokes.html'\u001b[0m\u001b[1;33m)\u001b[0m\u001b[1;33m\u001b[0m\u001b[0m\n",
      "\u001b[0;31mNameError\u001b[0m: name 'soupy' is not defined"
     ]
    }
   ],
   "source": [
    "cat = soupy('https://www.brainyquote.com/quotes/topics/topic_positive.html')\n",
    "dog = soupy('https://www.brainyquote.com/quotes/topics/topic_motivational.html')\n",
    "bird = soupy('https://www.brainyquote.com/quotes/topics/topic_courage.html')\n",
    "pigeon = soupy('https://www.brainyquote.com/quotes/topics/topic_happiness.html')\n",
    "meow = soupy('https://www.brainyquote.com/quotes/topics/topic_jokes.html')\n",
    "ruff = soupy('https://www.brainyquote.com/quotes/topics/topic_humor.html')\n",
    "insp = soupy('https://www.brainyquote.com/quotes/topics/topic_inspirational.html')"
   ]
  },
  {
   "cell_type": "code",
   "execution_count": null,
   "metadata": {
    "collapsed": true
   },
   "outputs": [],
   "source": []
  }
 ],
 "metadata": {
  "kernelspec": {
   "display_name": "Python 3",
   "language": "python",
   "name": "python3"
  },
  "language_info": {
   "codemirror_mode": {
    "name": "ipython",
    "version": 3
   },
   "file_extension": ".py",
   "mimetype": "text/x-python",
   "name": "python",
   "nbconvert_exporter": "python",
   "pygments_lexer": "ipython3",
   "version": "3.6.0"
  }
 },
 "nbformat": 4,
 "nbformat_minor": 2
}
